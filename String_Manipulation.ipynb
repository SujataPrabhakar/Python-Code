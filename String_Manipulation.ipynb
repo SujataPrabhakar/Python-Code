{
 "cells": [
  {
   "cell_type": "code",
   "execution_count": 1,
   "id": "c23827cf-afd9-44f7-895d-47f903ca720f",
   "metadata": {},
   "outputs": [
    {
     "data": {
      "text/plain": [
       "{'g': 2, 'o': 3, 'l': 1, 'e': 1, '.': 1, 'c': 1, 'm': 1}"
      ]
     },
     "execution_count": 1,
     "metadata": {},
     "output_type": "execute_result"
    }
   ],
   "source": [
    "#Write a Python program to count the number of characters (character frequency) in a string.\n",
    "input = \"google.com\"\n",
    "dict ={}\n",
    "for i in input:\n",
    "    if(i not in dict):\n",
    "        dict[i] = 1\n",
    "    else:\n",
    "        dict[i] += 1\n",
    "dict"
   ]
  },
  {
   "cell_type": "code",
   "execution_count": 1,
   "id": "26d9e342",
   "metadata": {},
   "outputs": [
    {
     "data": {
      "text/plain": [
       "'w3ce'"
      ]
     },
     "execution_count": 1,
     "metadata": {},
     "output_type": "execute_result"
    }
   ],
   "source": [
    "# Write a Python program to get a string made of the first 2 and last 2 characters of a given string. \n",
    "#If the string length is less than 2, return the empty string instead.\n",
    "# INPUT: 'w3resource'  OUTPUT : 'w3ce'\n",
    "# INPUT: 'w3'  OUTPUT: 'w3w3'\n",
    "input = 'w3resource'\n",
    "output = ''\n",
    "if(len(input)>=2):\n",
    "    output += input[0]+input[1]\n",
    "    output += input[len(input)-2]+input[len(input)-1]\n",
    "elif(len(input)<2):\n",
    "    output = ''\n",
    "output"
   ]
  },
  {
   "cell_type": "code",
   "execution_count": 3,
   "id": "5ac880d4",
   "metadata": {},
   "outputs": [
    {
     "data": {
      "text/plain": [
       "'Pytho'"
      ]
     },
     "execution_count": 3,
     "metadata": {},
     "output_type": "execute_result"
    }
   ],
   "source": [
    "#Write a Python program to remove the 5th index character from a nonempty string.\n",
    "#INPUT:'Python'\n",
    "#OUTPUT: Pytho\n",
    "input = 'Python'\n",
    "output = ''\n",
    "input_lst = []\n",
    "for i in input:\n",
    "    input_lst.append(i)\n",
    "del input_lst[5]\n",
    "input_lst\n",
    "for i in input_lst:\n",
    "    output += i\n",
    "output"
   ]
  },
  {
   "cell_type": "code",
   "execution_count": 4,
   "id": "ab9cf72b",
   "metadata": {},
   "outputs": [
    {
     "data": {
      "text/plain": [
       "{'the': 2,\n",
       " 'quick': 1,\n",
       " 'brown': 1,\n",
       " 'fox': 1,\n",
       " 'jumps': 1,\n",
       " 'over': 1,\n",
       " 'lazy': 1,\n",
       " 'dog.': 1}"
      ]
     },
     "execution_count": 4,
     "metadata": {},
     "output_type": "execute_result"
    }
   ],
   "source": [
    "#Write a Python program to count the occurrences of each word in a given sentence\n",
    "#INPUT: 'the quick brown fox jumps over the lazy dog.'\n",
    "#OUTPUT: {'the': 2, 'jumps': 1, 'brown': 1, 'lazy': 1, 'fox': 1, 'over': 1, 'quick': 1,'dog.': 1}\n",
    "input = 'the quick brown fox jumps over the lazy dog.'\n",
    "output = {}\n",
    "input_lst = input.split(' ')\n",
    "for i in input_lst:\n",
    "    if(i not in output):\n",
    "        output[i] = 1\n",
    "    elif(i in output):\n",
    "        output[i] += 1\n",
    "output"
   ]
  },
  {
   "cell_type": "code",
   "execution_count": 5,
   "id": "bd2f86dc",
   "metadata": {},
   "outputs": [
    {
     "name": "stdout",
     "output_type": "stream",
     "text": [
      "True\n"
     ]
    }
   ],
   "source": [
    "# Write a Python program to check whether a string starts with specified characters (grow)\n",
    "# INPUT:” growdataskills”\n",
    "# OUTPUT: TRUE\n",
    "input = 'growdataskills'\n",
    "char = 'grow'\n",
    "output = False\n",
    "if(char in input):\n",
    "    output = True\n",
    "else:\n",
    "    output = False\n",
    "\n",
    "print(output)"
   ]
  },
  {
   "cell_type": "code",
   "execution_count": 6,
   "id": "0774410e",
   "metadata": {},
   "outputs": [
    {
     "data": {
      "text/plain": [
       "'dog. lazy the over jumps fox brown quick The '"
      ]
     },
     "execution_count": 6,
     "metadata": {},
     "output_type": "execute_result"
    }
   ],
   "source": [
    "# Write a Python program to reverse words in a string.\n",
    "# INPUT: \"The quick brown fox jumps over the lazy dog.\"\n",
    "# OUPUT: “dog. lazy the over jumps fox brown quick The”\n",
    "input= \"The quick brown fox jumps over the lazy dog.\"\n",
    "output=''\n",
    "input_lst = input.split(' ')\n",
    "lst = input_lst[::-1]\n",
    "for i in lst:\n",
    "    output += i+\" \"\n",
    "    \n",
    "output"
   ]
  },
  {
   "cell_type": "code",
   "execution_count": 1,
   "id": "d201b5e4",
   "metadata": {},
   "outputs": [
    {
     "data": {
      "text/plain": [
       "False"
      ]
     },
     "execution_count": 1,
     "metadata": {},
     "output_type": "execute_result"
    }
   ],
   "source": [
    "# Write a Python program to check whether a string contains all letters of the alphabet.\n",
    "# INPUT: 'The quick brown fox jumps over the lazy cat\n",
    "# OUTPUT:FALSE\n",
    "input = 'The quick brown fox jumps over the lazy cat'\n",
    "alphabets = 'abcdefghijklmnopqrstuvwxyzABCDEFGHIJKLMNOPQRSTUVWXYZ'\n",
    "output = True\n",
    "for a in alphabets:\n",
    "    if(a not in input):\n",
    "        output = False\n",
    "\n",
    "output"
   ]
  },
  {
   "cell_type": "code",
   "execution_count": 2,
   "id": "5b4a9991",
   "metadata": {},
   "outputs": [
    {
     "data": {
      "text/plain": [
       "4"
      ]
     },
     "execution_count": 2,
     "metadata": {},
     "output_type": "execute_result"
    }
   ],
   "source": [
    "# Write a Python program to count and display vowels in text.\n",
    "# INPUT: resource\n",
    "# OUTPUT: 4 -> ['e', 'o', 'u', 'e']\n",
    "\n",
    "input = 'resource'\n",
    "vowels = 'aeiouAEIOU'\n",
    "vowels_num = 0\n",
    "for i in input:\n",
    "    if(i in vowels):\n",
    "        vowels_num += 1\n",
    "\n",
    "vowels_num"
   ]
  },
  {
   "cell_type": "code",
   "execution_count": null,
   "id": "cc7d6c84",
   "metadata": {},
   "outputs": [],
   "source": []
  }
 ],
 "metadata": {
  "kernelspec": {
   "display_name": "Python 3 (ipykernel)",
   "language": "python",
   "name": "python3"
  },
  "language_info": {
   "codemirror_mode": {
    "name": "ipython",
    "version": 3
   },
   "file_extension": ".py",
   "mimetype": "text/x-python",
   "name": "python",
   "nbconvert_exporter": "python",
   "pygments_lexer": "ipython3",
   "version": "3.11.4"
  }
 },
 "nbformat": 4,
 "nbformat_minor": 5
}
