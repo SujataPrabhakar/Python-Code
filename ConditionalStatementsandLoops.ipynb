{
 "cells": [
  {
   "cell_type": "code",
   "execution_count": 15,
   "id": "ff9c8ae1-be42-4645-85ae-22b688a0220e",
   "metadata": {},
   "outputs": [
    {
     "name": "stdout",
     "output_type": "stream",
     "text": [
      "[1505, 1540, 1575, 1610, 1645, 1680, 1715, 1750, 1785, 1820, 1855, 1890, 1925, 1960, 1995, 2030, 2065, 2100, 2135, 2170, 2205, 2240, 2275, 2310, 2345, 2380, 2415, 2450, 2485, 2520, 2555, 2590, 2625, 2660, 2695]\n"
     ]
    }
   ],
   "source": [
    "#Write a Python program to find those numbers which are divisible by 7 and multiples of 5, between 1500 and 2700 (both included).\n",
    "def DivisibleBy7Multipleby5():\n",
    "    list1=[]\n",
    "    i=1500\n",
    "    while( i <=2700):\n",
    "        if((i%7==0)and(i%5==0)):\n",
    "            list1.append(i)\n",
    "        i += 1\n",
    "\n",
    "    return list1\n",
    "\n",
    "lst = DivisibleBy7Multipleby5()\n",
    "print(lst)"
   ]
  },
  {
   "cell_type": "code",
   "execution_count": 16,
   "id": "53883a6e-6e61-4e12-9a59-c794037ef39c",
   "metadata": {},
   "outputs": [
    {
     "data": {
      "text/plain": [
       "'ajliahS'"
      ]
     },
     "execution_count": 16,
     "metadata": {},
     "output_type": "execute_result"
    }
   ],
   "source": [
    "# Write a Python program that accepts a word from the user and reverses it\n",
    "# INPUT: Input a word to reverse: Shailja\n",
    "# OUTPUT: ajliahS\n",
    "input = 'Shailja'\n",
    "input[::-1]"
   ]
  },
  {
   "cell_type": "code",
   "execution_count": 3,
   "id": "73c4911f-519f-438f-b4de-051c9502272b",
   "metadata": {},
   "outputs": [
    {
     "name": "stdout",
     "output_type": "stream",
     "text": [
      "0\n",
      "1\n",
      "2\n",
      "4\n",
      "5\n"
     ]
    }
   ],
   "source": [
    "# Write a Python program that prints all the numbers from 0 to 6 except 3 and6. Note : Use 'continue' statement.\n",
    "# Expected Output : 0 1 2 4 5\n",
    "i = 0\n",
    "while(i<6):\n",
    "    if i==3:\n",
    "        i += 1\n",
    "        continue\n",
    "    else:\n",
    "        print(i)\n",
    "    i += 1\n",
    "\n",
    "\n"
   ]
  },
  {
   "cell_type": "code",
   "execution_count": 7,
   "id": "f079bd35-429f-451c-91bd-9fccaeb63840",
   "metadata": {},
   "outputs": [
    {
     "name": "stdout",
     "output_type": "stream",
     "text": [
      "Type of 1452 is <class 'int'>\n",
      "Type of 11.23 is <class 'float'>\n",
      "Type of (1+2j) is <class 'complex'>\n",
      "Type of True is <class 'bool'>\n",
      "Type of w3resource is <class 'str'>\n",
      "Type of (0, -1) is <class 'tuple'>\n",
      "Type of [5, 12] is <class 'list'>\n",
      "Type of {'class': 'V', 'section': 'A'} is <class 'dict'>\n"
     ]
    }
   ],
   "source": [
    "# Write a Python program that prints each item and its corresponding type from the following list.\n",
    "input = [1452, 11.23, 1+2j, True, 'w3resource', (0, -1), [5, 12], {\"class\":'V', \"section\":'A'}]\n",
    "print(f'Type of {input[0]} is {type(input[0])}')\n",
    "print(f'Type of {input[1]} is {type(input[1])}')\n",
    "print(f'Type of {input[2]} is {type(input[2])}')\n",
    "print(f'Type of {input[3]} is {type(input[3])}')\n",
    "print(f'Type of {input[4]} is {type(input[4])}')\n",
    "print(f'Type of {input[5]} is {type(input[5])}')\n",
    "print(f'Type of {input[6]} is {type(input[6])}')\n",
    "print(f'Type of {input[7]} is {type(input[7])}')"
   ]
  },
  {
   "cell_type": "code",
   "execution_count": null,
   "id": "7ec392e3-18f7-4753-ac3d-d23f7b406db5",
   "metadata": {},
   "outputs": [],
   "source": []
  },
  {
   "cell_type": "code",
   "execution_count": null,
   "id": "3cb7cc7a-c028-471e-812a-2348e574ab1a",
   "metadata": {},
   "outputs": [],
   "source": []
  }
 ],
 "metadata": {
  "kernelspec": {
   "display_name": "Python 3 (ipykernel)",
   "language": "python",
   "name": "python3"
  },
  "language_info": {
   "codemirror_mode": {
    "name": "ipython",
    "version": 3
   },
   "file_extension": ".py",
   "mimetype": "text/x-python",
   "name": "python",
   "nbconvert_exporter": "python",
   "pygments_lexer": "ipython3",
   "version": "3.11.4"
  }
 },
 "nbformat": 4,
 "nbformat_minor": 5
}
